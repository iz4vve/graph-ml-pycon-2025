{
 "cells": [
  {
   "cell_type": "code",
   "execution_count": 16,
   "id": "798bc28b",
   "metadata": {},
   "outputs": [],
   "source": [
    "import numpy as np\n",
    "\n",
    "from sklearn.ensemble import GradientBoostingClassifier\n",
    "from sklearn.metrics import accuracy_score, f1_score, precision_score, recall_score, roc_auc_score\n",
    "from sklearn.preprocessing import StandardScaler\n",
    "\n",
    "import torch\n",
    "from torch_geometric.datasets import CitationFull\n",
    "from torch_geometric.nn import GCNConv\n",
    "import torch.nn.functional as F"
   ]
  },
  {
   "cell_type": "code",
   "execution_count": 8,
   "id": "dc4d6c06",
   "metadata": {},
   "outputs": [
    {
     "name": "stderr",
     "output_type": "stream",
     "text": [
      "Downloading https://github.com/abojchevski/graph2gauss/raw/master/data/cora.npz\n",
      "Processing...\n",
      "Done!\n"
     ]
    }
   ],
   "source": [
    "# Load the dataset\n",
    "dataset = CitationFull(root='/tmp/Cora', name='Cora')\n",
    "data = dataset[0]\n",
    "\n",
    "device = torch.device('cuda' if torch.cuda.is_available() else 'cpu')\n",
    "data = data.to(device)"
   ]
  },
  {
   "cell_type": "code",
   "execution_count": 9,
   "id": "de5e33dd",
   "metadata": {},
   "outputs": [],
   "source": [
    "# ----------------------------------\n",
    "# 🌲 Gradient Boosting Classifier\n",
    "# ----------------------------------\n",
    "\n",
    "x = data.x.cpu().numpy()\n",
    "y = data.y.cpu().numpy()\n",
    "\n",
    "# Manual train/test split (70/30)\n",
    "np.random.seed(42)\n",
    "num_nodes = x.shape[0]\n",
    "indices = np.random.permutation(num_nodes)\n",
    "split = int(0.7 * num_nodes)\n",
    "train_idx, test_idx = indices[:split], indices[split:]\n",
    "\n",
    "scaler = StandardScaler()\n",
    "x_scaled = scaler.fit_transform(x)"
   ]
  },
  {
   "cell_type": "code",
   "execution_count": 10,
   "id": "a9f6c247",
   "metadata": {},
   "outputs": [
    {
     "name": "stdout",
     "output_type": "stream",
     "text": [
      "🌲 Gradient Boosting Accuracy: 0.5428\n"
     ]
    }
   ],
   "source": [
    "gb = GradientBoostingClassifier(n_estimators=100)\n",
    "gb.fit(x_scaled[train_idx], y[train_idx])\n",
    "y_pred = gb.predict(x_scaled[test_idx])\n",
    "gb_acc = accuracy_score(y[test_idx], y_pred)\n",
    "print(f\"🌲 Gradient Boosting Accuracy: {gb_acc:.4f}\")"
   ]
  },
  {
   "cell_type": "code",
   "execution_count": null,
   "id": "ba7058e9",
   "metadata": {},
   "outputs": [
    {
     "data": {
      "text/plain": [
       "0.541897049759113"
      ]
     },
     "execution_count": 15,
     "metadata": {},
     "output_type": "execute_result"
    }
   ],
   "source": [
    "f1_score(y[test_idx], y_pred, average='weighted')"
   ]
  },
  {
   "cell_type": "code",
   "execution_count": 17,
   "id": "4a7ad374",
   "metadata": {},
   "outputs": [
    {
     "data": {
      "text/plain": [
       "0.5543566689413483"
      ]
     },
     "execution_count": 17,
     "metadata": {},
     "output_type": "execute_result"
    }
   ],
   "source": [
    "precision_score(y[test_idx], y_pred, average='weighted')"
   ]
  },
  {
   "cell_type": "code",
   "execution_count": 18,
   "id": "c9dd1d3e",
   "metadata": {},
   "outputs": [
    {
     "data": {
      "text/plain": [
       "0.5427753452340855"
      ]
     },
     "execution_count": 18,
     "metadata": {},
     "output_type": "execute_result"
    }
   ],
   "source": [
    "recall_score(y[test_idx], y_pred, average='weighted')"
   ]
  },
  {
   "cell_type": "code",
   "execution_count": 20,
   "id": "a2587e4c",
   "metadata": {},
   "outputs": [
    {
     "data": {
      "text/plain": [
       "np.float64(0.9037628278450435)"
      ]
     },
     "execution_count": 20,
     "metadata": {},
     "output_type": "execute_result"
    }
   ],
   "source": [
    "roc_auc_score(y[test_idx], gb.predict_proba(x_scaled[test_idx]), average='weighted', multi_class='ovr')"
   ]
  },
  {
   "cell_type": "code",
   "execution_count": 11,
   "id": "0fd480cf",
   "metadata": {},
   "outputs": [],
   "source": [
    "# ----------------------------------\n",
    "# 🧠 Graph Convolutional Network\n",
    "# ----------------------------------\n",
    "\n",
    "class GCN(torch.nn.Module):\n",
    "    def __init__(self, in_channels, hidden_channels, out_channels):\n",
    "        super().__init__()\n",
    "        self.conv1 = GCNConv(in_channels, hidden_channels)\n",
    "        self.conv2 = GCNConv(hidden_channels, out_channels)\n",
    "\n",
    "    def forward(self, x, edge_index):\n",
    "        x = self.conv1(x, edge_index)\n",
    "        x = F.relu(x)\n",
    "        x = F.dropout(x, training=self.training, p=0.5)\n",
    "        x = self.conv2(x, edge_index)\n",
    "        return x"
   ]
  },
  {
   "cell_type": "code",
   "execution_count": 12,
   "id": "e185d5a4",
   "metadata": {},
   "outputs": [
    {
     "name": "stdout",
     "output_type": "stream",
     "text": [
      "Epoch 0, Loss: 4.2471\n",
      "Epoch 20, Loss: 1.2284\n",
      "Epoch 40, Loss: 0.9122\n",
      "Epoch 60, Loss: 0.7915\n",
      "Epoch 80, Loss: 0.7258\n",
      "Epoch 100, Loss: 0.6929\n",
      "Epoch 120, Loss: 0.6552\n",
      "Epoch 140, Loss: 0.6353\n",
      "Epoch 160, Loss: 0.6218\n",
      "Epoch 180, Loss: 0.6120\n"
     ]
    }
   ],
   "source": [
    "model = GCN(data.num_node_features, 64, dataset.num_classes).to(device)\n",
    "optimizer = torch.optim.Adam(model.parameters(), lr=0.01, weight_decay=5e-4)\n",
    "\n",
    "# Create masks\n",
    "train_mask = torch.zeros(data.num_nodes, dtype=torch.bool)\n",
    "train_mask[train_idx] = True\n",
    "test_mask = torch.zeros(data.num_nodes, dtype=torch.bool)\n",
    "test_mask[test_idx] = True\n",
    "\n",
    "# Training loop\n",
    "model.train()\n",
    "for epoch in range(200):\n",
    "    optimizer.zero_grad()\n",
    "    out = model(data.x, data.edge_index)\n",
    "    loss = F.cross_entropy(out[train_mask], data.y[train_mask])\n",
    "    loss.backward()\n",
    "    optimizer.step()\n",
    "    if epoch % 20 == 0:\n",
    "        print(f\"Epoch {epoch}, Loss: {loss.item():.4f}\")"
   ]
  },
  {
   "cell_type": "code",
   "execution_count": 13,
   "id": "37fd1997",
   "metadata": {},
   "outputs": [
    {
     "name": "stdout",
     "output_type": "stream",
     "text": [
      "🧠 GCN Accuracy: 0.7216\n"
     ]
    }
   ],
   "source": [
    "# Evaluation\n",
    "model.eval()\n",
    "out = model(data.x, data.edge_index)\n",
    "pred = out.argmax(dim=1)\n",
    "correct = pred[test_mask] == data.y[test_mask]\n",
    "gcn_acc = int(correct.sum()) / int(test_mask.sum())\n",
    "print(f\"🧠 GCN Accuracy: {gcn_acc:.4f}\")\n"
   ]
  },
  {
   "cell_type": "code",
   "execution_count": 33,
   "id": "6810c536",
   "metadata": {},
   "outputs": [],
   "source": [
    "l = data.y[test_mask]"
   ]
  },
  {
   "cell_type": "code",
   "execution_count": 55,
   "id": "eb65bd76",
   "metadata": {},
   "outputs": [],
   "source": [
    "scores = F.softmax(out, dim=1)[test_mask, pred[test_mask]]"
   ]
  },
  {
   "cell_type": "code",
   "execution_count": 35,
   "id": "62d93cbc",
   "metadata": {},
   "outputs": [
    {
     "data": {
      "text/plain": [
       "0.7179227234444894"
      ]
     },
     "execution_count": 35,
     "metadata": {},
     "output_type": "execute_result"
    }
   ],
   "source": [
    "f1_score(l, pred[test_mask], average='weighted')"
   ]
  },
  {
   "cell_type": "code",
   "execution_count": 51,
   "id": "87b2408a",
   "metadata": {},
   "outputs": [
    {
     "data": {
      "text/plain": [
       "0.7216234422364433"
      ]
     },
     "execution_count": 51,
     "metadata": {},
     "output_type": "execute_result"
    }
   ],
   "source": [
    "accuracy_score(l, pred[test_mask])"
   ]
  },
  {
   "cell_type": "code",
   "execution_count": 52,
   "id": "4083e318",
   "metadata": {},
   "outputs": [
    {
     "data": {
      "text/plain": [
       "0.7216234422364433"
      ]
     },
     "execution_count": 52,
     "metadata": {},
     "output_type": "execute_result"
    }
   ],
   "source": [
    "recall_score(l, pred[test_mask], average='weighted')"
   ]
  },
  {
   "cell_type": "code",
   "execution_count": 53,
   "id": "73dc45b6",
   "metadata": {},
   "outputs": [
    {
     "name": "stderr",
     "output_type": "stream",
     "text": [
      "/Users/pmascolo/Library/Caches/pypoetry/virtualenvs/pycon2025-xdZgCepF-py3.12/lib/python3.12/site-packages/sklearn/metrics/_classification.py:1565: UndefinedMetricWarning: Precision is ill-defined and being set to 0.0 in labels with no predicted samples. Use `zero_division` parameter to control this behavior.\n",
      "  _warn_prf(average, modifier, f\"{metric.capitalize()} is\", len(result))\n"
     ]
    },
    {
     "data": {
      "text/plain": [
       "0.7233653335468685"
      ]
     },
     "execution_count": 53,
     "metadata": {},
     "output_type": "execute_result"
    }
   ],
   "source": [
    "precision_score(l, pred[test_mask], average='weighted')"
   ]
  },
  {
   "cell_type": "code",
   "execution_count": 60,
   "id": "e3859d40",
   "metadata": {},
   "outputs": [
    {
     "data": {
      "text/plain": [
       "np.float64(0.9852935307159091)"
      ]
     },
     "execution_count": 60,
     "metadata": {},
     "output_type": "execute_result"
    }
   ],
   "source": [
    "roc_auc_score(l, F.softmax(out, dim=1)[test_mask].detach().numpy(), average='weighted', multi_class='ovr')"
   ]
  }
 ],
 "metadata": {
  "kernelspec": {
   "display_name": "pycon2025-xdZgCepF-py3.12",
   "language": "python",
   "name": "python3"
  },
  "language_info": {
   "codemirror_mode": {
    "name": "ipython",
    "version": 3
   },
   "file_extension": ".py",
   "mimetype": "text/x-python",
   "name": "python",
   "nbconvert_exporter": "python",
   "pygments_lexer": "ipython3",
   "version": "3.12.0"
  }
 },
 "nbformat": 4,
 "nbformat_minor": 5
}
