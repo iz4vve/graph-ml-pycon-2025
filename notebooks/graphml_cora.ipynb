{
 "cells": [
  {
   "cell_type": "code",
   "execution_count": 16,
   "id": "798bc28b",
   "metadata": {},
   "outputs": [],
   "source": [
    "import numpy as np\n",
    "\n",
    "from sklearn.ensemble import GradientBoostingClassifier\n",
    "from sklearn.metrics import accuracy_score, f1_score, precision_score, recall_score, roc_auc_score\n",
    "from sklearn.preprocessing import StandardScaler\n",
    "\n",
    "import torch\n",
    "from torch_geometric.datasets import CitationFull\n",
    "from torch_geometric.nn import GCNConv\n",
    "import torch.nn.functional as F"
   ]
  },
  {
   "cell_type": "code",
   "execution_count": 8,
   "id": "dc4d6c06",
   "metadata": {},
   "outputs": [
    {
     "name": "stderr",
     "output_type": "stream",
     "text": [
      "Downloading https://github.com/abojchevski/graph2gauss/raw/master/data/cora.npz\n",
      "Processing...\n",
      "Done!\n"
     ]
    }
   ],
   "source": [
    "# Load the dataset\n",
    "dataset = CitationFull(root='/tmp/Cora', name='Cora')\n",
    "data = dataset[0]\n",
    "\n",
    "device = torch.device('cuda' if torch.cuda.is_available() else 'cpu')\n",
    "data = data.to(device)"
   ]
  },
  {
   "cell_type": "code",
   "execution_count": 9,
   "id": "de5e33dd",
   "metadata": {},
   "outputs": [],
   "source": [
    "# ----------------------------------\n",
    "# 🌲 Gradient Boosting Classifier\n",
    "# ----------------------------------\n",
    "\n",
    "x = data.x.cpu().numpy()\n",
    "y = data.y.cpu().numpy()\n",
    "\n",
    "# Manual train/test split (70/30)\n",
    "np.random.seed(42)\n",
    "num_nodes = x.shape[0]\n",
    "indices = np.random.permutation(num_nodes)\n",
    "split = int(0.7 * num_nodes)\n",
    "train_idx, test_idx = indices[:split], indices[split:]\n",
    "\n",
    "scaler = StandardScaler()\n",
    "x_scaled = scaler.fit_transform(x)"
   ]
  },
  {
   "cell_type": "code",
   "execution_count": 10,
   "id": "a9f6c247",
   "metadata": {},
   "outputs": [
    {
     "name": "stdout",
     "output_type": "stream",
     "text": [
      "🌲 Gradient Boosting Accuracy: 0.5428\n"
     ]
    }
   ],
   "source": [
    "gb = GradientBoostingClassifier(n_estimators=100)\n",
    "gb.fit(x_scaled[train_idx], y[train_idx])\n",
    "y_pred = gb.predict(x_scaled[test_idx])\n",
    "gb_acc = accuracy_score(y[test_idx], y_pred)\n",
    "print(f\"🌲 Gradient Boosting Accuracy: {gb_acc:.4f}\")"
   ]
  },
  {
   "cell_type": "code",
   "execution_count": null,
   "id": "ba7058e9",
   "metadata": {},
   "outputs": [],
   "source": [
    "gb_f1 = f1_score(y[test_idx], y_pred, average='weighted')\n",
    "gb_precision = precision_score(y[test_idx], y_pred, average='weighted')\n",
    "gb_recall = recall_score(y[test_idx], y_pred, average='weighted')\n",
    "gb_roc_auc = roc_auc_score(\n",
    "    y[test_idx], gb.predict_proba(x_scaled[test_idx]), multi_class='ovr', average='weighted'\n",
    ")"
   ]
  },
  {
   "cell_type": "code",
   "execution_count": 66,
   "id": "4a7ad374",
   "metadata": {},
   "outputs": [
    {
     "name": "stdout",
     "output_type": "stream",
     "text": [
      "🌲 Gradient Boosting F1: 0.5419\n",
      "🌲 Gradient Boosting Precision: 0.5544\n",
      "🌲 Gradient Boosting Recall: 0.5428\n",
      "🌲 Gradient Boosting AUROC: 0.9038\n"
     ]
    }
   ],
   "source": [
    "print(f\"🌲 Gradient Boosting F1: {gb_f1:.4f}\")\n",
    "print(f\"🌲 Gradient Boosting Precision: {gb_precision:.4f}\")\n",
    "print(f\"🌲 Gradient Boosting Recall: {gb_recall:.4f}\")\n",
    "print(f\"🌲 Gradient Boosting AUROC: {gb_roc_auc:.4f}\")"
   ]
  },
  {
   "cell_type": "code",
   "execution_count": 11,
   "id": "0fd480cf",
   "metadata": {},
   "outputs": [],
   "source": [
    "# ----------------------------------\n",
    "# 🧠 Graph Convolutional Network\n",
    "# ----------------------------------\n",
    "\n",
    "class GCN(torch.nn.Module):\n",
    "    def __init__(self, in_channels, hidden_channels, out_channels):\n",
    "        super().__init__()\n",
    "        self.conv1 = GCNConv(in_channels, hidden_channels)\n",
    "        self.conv2 = GCNConv(hidden_channels, out_channels)\n",
    "\n",
    "    def forward(self, x, edge_index):\n",
    "        x = self.conv1(x, edge_index)\n",
    "        x = F.relu(x)\n",
    "        x = F.dropout(x, training=self.training, p=0.5)\n",
    "        x = self.conv2(x, edge_index)\n",
    "        return x"
   ]
  },
  {
   "cell_type": "code",
   "execution_count": 12,
   "id": "e185d5a4",
   "metadata": {},
   "outputs": [
    {
     "name": "stdout",
     "output_type": "stream",
     "text": [
      "Epoch 0, Loss: 4.2471\n",
      "Epoch 20, Loss: 1.2284\n",
      "Epoch 40, Loss: 0.9122\n",
      "Epoch 60, Loss: 0.7915\n",
      "Epoch 80, Loss: 0.7258\n",
      "Epoch 100, Loss: 0.6929\n",
      "Epoch 120, Loss: 0.6552\n",
      "Epoch 140, Loss: 0.6353\n",
      "Epoch 160, Loss: 0.6218\n",
      "Epoch 180, Loss: 0.6120\n"
     ]
    }
   ],
   "source": [
    "model = GCN(data.num_node_features, 64, dataset.num_classes).to(device)\n",
    "optimizer = torch.optim.Adam(model.parameters(), lr=0.01, weight_decay=5e-4)\n",
    "\n",
    "# Create masks\n",
    "train_mask = torch.zeros(data.num_nodes, dtype=torch.bool)\n",
    "train_mask[train_idx] = True\n",
    "test_mask = torch.zeros(data.num_nodes, dtype=torch.bool)\n",
    "test_mask[test_idx] = True\n",
    "\n",
    "# Training loop\n",
    "model.train()\n",
    "for epoch in range(200):\n",
    "    optimizer.zero_grad()\n",
    "    out = model(data.x, data.edge_index)\n",
    "    loss = F.cross_entropy(out[train_mask], data.y[train_mask])\n",
    "    loss.backward()\n",
    "    optimizer.step()\n",
    "    if epoch % 20 == 0:\n",
    "        print(f\"Epoch {epoch}, Loss: {loss.item():.4f}\")"
   ]
  },
  {
   "cell_type": "code",
   "execution_count": null,
   "id": "37fd1997",
   "metadata": {},
   "outputs": [
    {
     "name": "stdout",
     "output_type": "stream",
     "text": [
      "🧠 GCN Accuracy: 0.7216\n"
     ]
    }
   ],
   "source": [
    "# Evaluation\n",
    "model.eval()\n",
    "out = model(data.x, data.edge_index)\n",
    "pred = out.argmax(dim=1)\n",
    "correct = pred[test_mask] == data.y[test_mask]\n",
    "gcn_acc = int(correct.sum()) / int(test_mask.sum())\n",
    "print(f\"🧠 GCN Accuracy: {gcn_acc:.4f}\")\n"
   ]
  },
  {
   "cell_type": "code",
   "execution_count": 67,
   "id": "6810c536",
   "metadata": {},
   "outputs": [],
   "source": [
    "l = data.y[test_mask]\n",
    "scores = F.softmax(out, dim=1)[test_mask]"
   ]
  },
  {
   "cell_type": "code",
   "execution_count": 68,
   "id": "23dccf00",
   "metadata": {},
   "outputs": [
    {
     "name": "stderr",
     "output_type": "stream",
     "text": [
      "/Users/pmascolo/Library/Caches/pypoetry/virtualenvs/pycon2025-xdZgCepF-py3.12/lib/python3.12/site-packages/sklearn/metrics/_classification.py:1565: UndefinedMetricWarning: Precision is ill-defined and being set to 0.0 in labels with no predicted samples. Use `zero_division` parameter to control this behavior.\n",
      "  _warn_prf(average, modifier, f\"{metric.capitalize()} is\", len(result))\n"
     ]
    }
   ],
   "source": [
    "gcn_f1 = f1_score(l, pred[test_mask], average='weighted')\n",
    "gcn_precision = precision_score(l, pred[test_mask], average='weighted')\n",
    "gcn_recall = recall_score(l, pred[test_mask], average='weighted')\n",
    "gcn_roc_auc = roc_auc_score(l, scores.detach().numpy(), average='weighted', multi_class='ovr')"
   ]
  },
  {
   "cell_type": "code",
   "execution_count": 69,
   "id": "eb65bd76",
   "metadata": {},
   "outputs": [
    {
     "name": "stdout",
     "output_type": "stream",
     "text": [
      "🧠 GCN F1: 0.7216\n",
      "🧠 GCN Precision: 0.7234\n",
      "🧠 GCN Recall: 0.7216\n",
      "🧠 GCN AUROC: 0.9853\n"
     ]
    }
   ],
   "source": [
    "print(f\"🧠 GCN F1: {gcn_acc:.4f}\")\n",
    "print(f\"🧠 GCN Precision: {gcn_precision:.4f}\")\n",
    "print(f\"🧠 GCN Recall: {gcn_recall:.4f}\")\n",
    "print(f\"🧠 GCN AUROC: {gcn_roc_auc:.4f}\")"
   ]
  }
 ],
 "metadata": {
  "kernelspec": {
   "display_name": "pycon2025-xdZgCepF-py3.12",
   "language": "python",
   "name": "python3"
  },
  "language_info": {
   "codemirror_mode": {
    "name": "ipython",
    "version": 3
   },
   "file_extension": ".py",
   "mimetype": "text/x-python",
   "name": "python",
   "nbconvert_exporter": "python",
   "pygments_lexer": "ipython3",
   "version": "3.12.0"
  }
 },
 "nbformat": 4,
 "nbformat_minor": 5
}
